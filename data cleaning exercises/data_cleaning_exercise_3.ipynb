{
 "cells": [
  {
   "cell_type": "code",
   "execution_count": 1,
   "metadata": {},
   "outputs": [
    {
     "data": {
      "text/plain": [
       "0    Name Hussein Hakeem Address Number 22 Fioye Cr...\n",
       "1    Name Arojoye Samuel Address 11 Omolade Close O...\n",
       "2    Name Alex Ezurum Address 1 Adamu Lane, Abuja A...\n",
       "3    Name Susan Nwaimo Address Number 58 Yaba Stree...\n",
       "4    Name Ajao Opeyemi Address No12 Olubunmi Street...\n",
       "Name: 0, dtype: object"
      ]
     },
     "execution_count": 1,
     "metadata": {},
     "output_type": "execute_result"
    }
   ],
   "source": [
    "import pandas as pd\n",
    "\n",
    "# Load the customer details from an Excel file without headers and convert to a Series\n",
    "customer_data = pd.read_excel('https://foresightbi.com.ng/wp-content/uploads/2020/05/5.-Jumbled-up-Customers-Details.xlsx', header=None).squeeze()\n",
    "\n",
    "# Display the first few rows of the original customer data\n",
    "customer_data.head()"
   ]
  },
  {
   "cell_type": "markdown",
   "metadata": {},
   "source": [
    "For more examples on how to use use pandas.Series.str for effectively manipulating string data\n",
    "see : https://pandas.pydata.org/pandas-docs/stable/reference/api/pandas.Series.str.html"
   ]
  },
  {
   "cell_type": "code",
   "execution_count": 2,
   "metadata": {},
   "outputs": [
    {
     "data": {
      "text/html": [
       "<div>\n",
       "<style scoped>\n",
       "    .dataframe tbody tr th:only-of-type {\n",
       "        vertical-align: middle;\n",
       "    }\n",
       "\n",
       "    .dataframe tbody tr th {\n",
       "        vertical-align: top;\n",
       "    }\n",
       "\n",
       "    .dataframe thead th {\n",
       "        text-align: right;\n",
       "    }\n",
       "</style>\n",
       "<table border=\"1\" class=\"dataframe\">\n",
       "  <thead>\n",
       "    <tr style=\"text-align: right;\">\n",
       "      <th></th>\n",
       "      <th>Name</th>\n",
       "      <th>Address</th>\n",
       "      <th>Age</th>\n",
       "      <th>Gender</th>\n",
       "    </tr>\n",
       "  </thead>\n",
       "  <tbody>\n",
       "    <tr>\n",
       "      <th>0</th>\n",
       "      <td>Hussein Hakeem</td>\n",
       "      <td>Number 22 Fioye Crescent Surulere Lagos</td>\n",
       "      <td>17</td>\n",
       "      <td>Male</td>\n",
       "    </tr>\n",
       "    <tr>\n",
       "      <th>1</th>\n",
       "      <td>Arojoye Samuel</td>\n",
       "      <td>11 Omolade Close Omole Estate Lagos</td>\n",
       "      <td>16</td>\n",
       "      <td>Male</td>\n",
       "    </tr>\n",
       "    <tr>\n",
       "      <th>2</th>\n",
       "      <td>Alex Ezurum</td>\n",
       "      <td>1 Adamu Lane, Abuja</td>\n",
       "      <td>14</td>\n",
       "      <td>Male</td>\n",
       "    </tr>\n",
       "    <tr>\n",
       "      <th>3</th>\n",
       "      <td>Susan Nwaimo</td>\n",
       "      <td>Number 58 Yaba Street, Kaduna State</td>\n",
       "      <td>16</td>\n",
       "      <td>Female</td>\n",
       "    </tr>\n",
       "    <tr>\n",
       "      <th>4</th>\n",
       "      <td>Ajao Opeyemi</td>\n",
       "      <td>No12 Olubunmi Street, Abeokuta</td>\n",
       "      <td>18</td>\n",
       "      <td>Female</td>\n",
       "    </tr>\n",
       "    <tr>\n",
       "      <th>5</th>\n",
       "      <td>Banjoko Adebusola</td>\n",
       "      <td>34 Ngige Street, Ugheli, Delta</td>\n",
       "      <td>14</td>\n",
       "      <td>Female</td>\n",
       "    </tr>\n",
       "    <tr>\n",
       "      <th>6</th>\n",
       "      <td>Muhammed Olabisi</td>\n",
       "      <td>13, ICAN road, Enugu</td>\n",
       "      <td>12</td>\n",
       "      <td>Female</td>\n",
       "    </tr>\n",
       "    <tr>\n",
       "      <th>7</th>\n",
       "      <td>Oluwagbemi Mojisola</td>\n",
       "      <td>ACCA Lane, Onitsha</td>\n",
       "      <td>13</td>\n",
       "      <td>Female</td>\n",
       "    </tr>\n",
       "  </tbody>\n",
       "</table>\n",
       "</div>"
      ],
      "text/plain": [
       "                  Name                                  Address Age  Gender\n",
       "0       Hussein Hakeem  Number 22 Fioye Crescent Surulere Lagos  17    Male\n",
       "1       Arojoye Samuel      11 Omolade Close Omole Estate Lagos  16    Male\n",
       "2          Alex Ezurum                      1 Adamu Lane, Abuja  14    Male\n",
       "3         Susan Nwaimo     Number 58 Yaba Street, Kaduna State   16  Female\n",
       "4         Ajao Opeyemi           No12 Olubunmi Street, Abeokuta  18  Female\n",
       "5    Banjoko Adebusola           34 Ngige Street, Ugheli, Delta  14  Female\n",
       "6     Muhammed Olabisi                     13, ICAN road, Enugu  12  Female\n",
       "7  Oluwagbemi Mojisola                       ACCA Lane, Onitsha  13  Female"
      ]
     },
     "execution_count": 2,
     "metadata": {},
     "output_type": "execute_result"
    }
   ],
   "source": [
    "# Extract relevant information using regex: Name, Address, Age, and Gender\n",
    "extracted_customer_data = customer_data.str.extract(r'Name (.+) Address (.+) Age (\\d+) Gender (\\w+)')\n",
    "\n",
    "# Rename the columns for better clarity\n",
    "extracted_customer_data.columns = ['Name', 'Address', 'Age', 'Gender']\n",
    "\n",
    "# Display the structured customer data\n",
    "extracted_customer_data"
   ]
  }
 ],
 "metadata": {
  "kernelspec": {
   "display_name": "Python 3",
   "language": "python",
   "name": "python3"
  },
  "language_info": {
   "codemirror_mode": {
    "name": "ipython",
    "version": 3
   },
   "file_extension": ".py",
   "mimetype": "text/x-python",
   "name": "python",
   "nbconvert_exporter": "python",
   "pygments_lexer": "ipython3",
   "version": "3.10.7"
  }
 },
 "nbformat": 4,
 "nbformat_minor": 2
}
