{
 "cells": [
  {
   "cell_type": "code",
   "execution_count": 1,
   "metadata": {},
   "outputs": [
    {
     "data": {
      "text/html": [
       "<div>\n",
       "<style scoped>\n",
       "    .dataframe tbody tr th:only-of-type {\n",
       "        vertical-align: middle;\n",
       "    }\n",
       "\n",
       "    .dataframe tbody tr th {\n",
       "        vertical-align: top;\n",
       "    }\n",
       "\n",
       "    .dataframe thead th {\n",
       "        text-align: right;\n",
       "    }\n",
       "</style>\n",
       "<table border=\"1\" class=\"dataframe\">\n",
       "  <thead>\n",
       "    <tr style=\"text-align: right;\">\n",
       "      <th></th>\n",
       "      <th>Description</th>\n",
       "      <th>Quantity</th>\n",
       "    </tr>\n",
       "  </thead>\n",
       "  <tbody>\n",
       "    <tr>\n",
       "      <th>0</th>\n",
       "      <td>lotion Benzylbenzoate lotion</td>\n",
       "      <td>0Bottle</td>\n",
       "    </tr>\n",
       "    <tr>\n",
       "      <th>1</th>\n",
       "      <td>Methylated spirit 100ml</td>\n",
       "      <td>0Bottle</td>\n",
       "    </tr>\n",
       "    <tr>\n",
       "      <th>2</th>\n",
       "      <td>susp Magnessium Trisilicate 200ml</td>\n",
       "      <td>0Bottle</td>\n",
       "    </tr>\n",
       "    <tr>\n",
       "      <th>3</th>\n",
       "      <td>Susp. Amoxicillin 125mg/5ml</td>\n",
       "      <td>0Bottle</td>\n",
       "    </tr>\n",
       "    <tr>\n",
       "      <th>4</th>\n",
       "      <td>Susp. Erythromycin 125mg/5ml</td>\n",
       "      <td>0Bottle</td>\n",
       "    </tr>\n",
       "  </tbody>\n",
       "</table>\n",
       "</div>"
      ],
      "text/plain": [
       "                         Description Quantity\n",
       "0       lotion Benzylbenzoate lotion  0Bottle\n",
       "1            Methylated spirit 100ml  0Bottle\n",
       "2  susp Magnessium Trisilicate 200ml  0Bottle\n",
       "3        Susp. Amoxicillin 125mg/5ml  0Bottle\n",
       "4       Susp. Erythromycin 125mg/5ml  0Bottle"
      ]
     },
     "execution_count": 1,
     "metadata": {},
     "output_type": "execute_result"
    }
   ],
   "source": [
    "import pandas as pd\n",
    "\n",
    "# Load the medicine data from an Excel file\n",
    "medicine_data = pd.read_excel('https://foresightbi.com.ng/wp-content/uploads/2020/05/7.-Medicine-Data-with-lumped-Quantity-and-Measure.xlsx')\n",
    "\n",
    "# Display the first few rows of the original medicine data\n",
    "medicine_data.head()"
   ]
  },
  {
   "cell_type": "code",
   "execution_count": 3,
   "metadata": {},
   "outputs": [
    {
     "data": {
      "text/html": [
       "<div>\n",
       "<style scoped>\n",
       "    .dataframe tbody tr th:only-of-type {\n",
       "        vertical-align: middle;\n",
       "    }\n",
       "\n",
       "    .dataframe tbody tr th {\n",
       "        vertical-align: top;\n",
       "    }\n",
       "\n",
       "    .dataframe thead th {\n",
       "        text-align: right;\n",
       "    }\n",
       "</style>\n",
       "<table border=\"1\" class=\"dataframe\">\n",
       "  <thead>\n",
       "    <tr style=\"text-align: right;\">\n",
       "      <th></th>\n",
       "      <th>Description</th>\n",
       "      <th>Quantity</th>\n",
       "      <th>Measure</th>\n",
       "    </tr>\n",
       "  </thead>\n",
       "  <tbody>\n",
       "    <tr>\n",
       "      <th>0</th>\n",
       "      <td>lotion Benzylbenzoate lotion</td>\n",
       "      <td>0</td>\n",
       "      <td>Bottle</td>\n",
       "    </tr>\n",
       "    <tr>\n",
       "      <th>1</th>\n",
       "      <td>Methylated spirit 100ml</td>\n",
       "      <td>0</td>\n",
       "      <td>Bottle</td>\n",
       "    </tr>\n",
       "    <tr>\n",
       "      <th>2</th>\n",
       "      <td>susp Magnessium Trisilicate 200ml</td>\n",
       "      <td>0</td>\n",
       "      <td>Bottle</td>\n",
       "    </tr>\n",
       "    <tr>\n",
       "      <th>3</th>\n",
       "      <td>Susp. Amoxicillin 125mg/5ml</td>\n",
       "      <td>0</td>\n",
       "      <td>Bottle</td>\n",
       "    </tr>\n",
       "    <tr>\n",
       "      <th>4</th>\n",
       "      <td>Susp. Erythromycin 125mg/5ml</td>\n",
       "      <td>0</td>\n",
       "      <td>Bottle</td>\n",
       "    </tr>\n",
       "  </tbody>\n",
       "</table>\n",
       "</div>"
      ],
      "text/plain": [
       "                         Description Quantity Measure\n",
       "0       lotion Benzylbenzoate lotion        0  Bottle\n",
       "1            Methylated spirit 100ml        0  Bottle\n",
       "2  susp Magnessium Trisilicate 200ml        0  Bottle\n",
       "3        Susp. Amoxicillin 125mg/5ml        0  Bottle\n",
       "4       Susp. Erythromycin 125mg/5ml        0  Bottle"
      ]
     },
     "execution_count": 3,
     "metadata": {},
     "output_type": "execute_result"
    }
   ],
   "source": [
    "# Extract the quantity and measure from the 'Quantity' column using regex\n",
    "extracted_quantity_measure = medicine_data['Quantity'].str.extract(r'(\\d+)(\\w+)')\n",
    "extracted_quantity_measure.columns = ['Quantity', 'Measure']\n",
    "\n",
    "# Remove the original 'Quantity' column from the DataFrame\n",
    "del medicine_data['Quantity']\n",
    "\n",
    "# Concatenate the original DataFrame with the new quantity and measure DataFrame\n",
    "final_medicine_data = pd.concat([medicine_data, extracted_quantity_measure], axis=1)\n",
    "\n",
    "# Display the final structured medicine data\n",
    "final_medicine_data.head()"
   ]
  }
 ],
 "metadata": {
  "kernelspec": {
   "display_name": "Python 3",
   "language": "python",
   "name": "python3"
  },
  "language_info": {
   "codemirror_mode": {
    "name": "ipython",
    "version": 3
   },
   "file_extension": ".py",
   "mimetype": "text/x-python",
   "name": "python",
   "nbconvert_exporter": "python",
   "pygments_lexer": "ipython3",
   "version": "3.10.7"
  }
 },
 "nbformat": 4,
 "nbformat_minor": 2
}
