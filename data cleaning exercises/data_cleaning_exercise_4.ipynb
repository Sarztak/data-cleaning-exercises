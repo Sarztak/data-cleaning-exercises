{
 "cells": [
  {
   "cell_type": "code",
   "execution_count": 1,
   "metadata": {},
   "outputs": [
    {
     "data": {
      "text/html": [
       "<div>\n",
       "<style scoped>\n",
       "    .dataframe tbody tr th:only-of-type {\n",
       "        vertical-align: middle;\n",
       "    }\n",
       "\n",
       "    .dataframe tbody tr th {\n",
       "        vertical-align: top;\n",
       "    }\n",
       "\n",
       "    .dataframe thead th {\n",
       "        text-align: right;\n",
       "    }\n",
       "</style>\n",
       "<table border=\"1\" class=\"dataframe\">\n",
       "  <thead>\n",
       "    <tr style=\"text-align: right;\">\n",
       "      <th></th>\n",
       "      <th>Order ID</th>\n",
       "      <th>Category</th>\n",
       "      <th>Amount</th>\n",
       "    </tr>\n",
       "  </thead>\n",
       "  <tbody>\n",
       "    <tr>\n",
       "      <th>0</th>\n",
       "      <td>CA-2011-167199</td>\n",
       "      <td>Binders | Art | Phones | Fasteners | Paper</td>\n",
       "      <td>609.98 | 5.48 | 391.98 | 755.96 | 31.12</td>\n",
       "    </tr>\n",
       "    <tr>\n",
       "      <th>1</th>\n",
       "      <td>CA-2011-149020</td>\n",
       "      <td>Office Supplies | Furniture</td>\n",
       "      <td>2.98 | 51.94</td>\n",
       "    </tr>\n",
       "    <tr>\n",
       "      <th>2</th>\n",
       "      <td>CA-2011-131905</td>\n",
       "      <td>Office Supplies | Technology | Technology</td>\n",
       "      <td>7.2 | 42.0186 | 42.035</td>\n",
       "    </tr>\n",
       "    <tr>\n",
       "      <th>3</th>\n",
       "      <td>CA-2011-127614</td>\n",
       "      <td>Accessories | Tables | Binders</td>\n",
       "      <td>234.45 | 1256.22 | 17.46</td>\n",
       "    </tr>\n",
       "  </tbody>\n",
       "</table>\n",
       "</div>"
      ],
      "text/plain": [
       "         Order ID                                    Category  \\\n",
       "0  CA-2011-167199  Binders | Art | Phones | Fasteners | Paper   \n",
       "1  CA-2011-149020                 Office Supplies | Furniture   \n",
       "2  CA-2011-131905   Office Supplies | Technology | Technology   \n",
       "3  CA-2011-127614              Accessories | Tables | Binders   \n",
       "\n",
       "                                    Amount  \n",
       "0  609.98 | 5.48 | 391.98 | 755.96 | 31.12  \n",
       "1                             2.98 | 51.94  \n",
       "2                   7.2 | 42.0186 | 42.035  \n",
       "3                 234.45 | 1256.22 | 17.46  "
      ]
     },
     "execution_count": 1,
     "metadata": {},
     "output_type": "execute_result"
    }
   ],
   "source": [
    "import pandas as pd\n",
    "\n",
    "# Load the invoices data from an Excel file\n",
    "invoices_data = pd.read_excel('https://foresightbi.com.ng/wp-content/uploads/2020/05/8.-Invoices-with-Merged-Categories-and-Merged-Amounts.xlsx')\n",
    "\n",
    "# Display the first few rows of the original invoices data\n",
    "invoices_data.head()"
   ]
  },
  {
   "cell_type": "code",
   "execution_count": 2,
   "metadata": {},
   "outputs": [],
   "source": [
    "# Split the 'Category' and 'Amount' columns by '|' and explode them into separate rows\n",
    "exploded_categories = invoices_data['Category'].str.split('|').explode()\n",
    "exploded_amounts = invoices_data['Amount'].str.split('|').explode()\n",
    "\n",
    "# Create a new DataFrame with the exploded categories and amounts\n",
    "exploded_data = pd.DataFrame({\n",
    "    'Category': exploded_categories,\n",
    "    'Amount': exploded_amounts\n",
    "})\n",
    "\n",
    "# Join the 'Order ID' from the original DataFrame to the new exploded DataFrame\n",
    "exploded_data = exploded_data.join(invoices_data['Order ID'])"
   ]
  },
  {
   "cell_type": "code",
   "execution_count": 3,
   "metadata": {},
   "outputs": [
    {
     "data": {
      "text/html": [
       "<div>\n",
       "<style scoped>\n",
       "    .dataframe tbody tr th:only-of-type {\n",
       "        vertical-align: middle;\n",
       "    }\n",
       "\n",
       "    .dataframe tbody tr th {\n",
       "        vertical-align: top;\n",
       "    }\n",
       "\n",
       "    .dataframe thead th {\n",
       "        text-align: right;\n",
       "    }\n",
       "</style>\n",
       "<table border=\"1\" class=\"dataframe\">\n",
       "  <thead>\n",
       "    <tr style=\"text-align: right;\">\n",
       "      <th></th>\n",
       "      <th>Order ID</th>\n",
       "      <th>Category</th>\n",
       "      <th>Amount</th>\n",
       "    </tr>\n",
       "  </thead>\n",
       "  <tbody>\n",
       "    <tr>\n",
       "      <th>0</th>\n",
       "      <td>CA-2011-167199</td>\n",
       "      <td>Binders</td>\n",
       "      <td>609.98</td>\n",
       "    </tr>\n",
       "    <tr>\n",
       "      <th>1</th>\n",
       "      <td>CA-2011-167199</td>\n",
       "      <td>Art</td>\n",
       "      <td>5.48</td>\n",
       "    </tr>\n",
       "    <tr>\n",
       "      <th>2</th>\n",
       "      <td>CA-2011-167199</td>\n",
       "      <td>Phones</td>\n",
       "      <td>391.98</td>\n",
       "    </tr>\n",
       "    <tr>\n",
       "      <th>3</th>\n",
       "      <td>CA-2011-167199</td>\n",
       "      <td>Fasteners</td>\n",
       "      <td>755.96</td>\n",
       "    </tr>\n",
       "    <tr>\n",
       "      <th>4</th>\n",
       "      <td>CA-2011-167199</td>\n",
       "      <td>Paper</td>\n",
       "      <td>31.12</td>\n",
       "    </tr>\n",
       "  </tbody>\n",
       "</table>\n",
       "</div>"
      ],
      "text/plain": [
       "         Order ID     Category    Amount\n",
       "0  CA-2011-167199     Binders    609.98 \n",
       "1  CA-2011-167199         Art      5.48 \n",
       "2  CA-2011-167199      Phones    391.98 \n",
       "3  CA-2011-167199   Fasteners    755.96 \n",
       "4  CA-2011-167199        Paper     31.12"
      ]
     },
     "execution_count": 3,
     "metadata": {},
     "output_type": "execute_result"
    }
   ],
   "source": [
    "# Rearrange the columns and reset the index\n",
    "final_data = exploded_data.loc[:, ['Order ID', 'Category', 'Amount']].reset_index(drop=True)\n",
    "\n",
    "# Display the first few rows of the final structured data\n",
    "final_data.head()"
   ]
  }
 ],
 "metadata": {
  "kernelspec": {
   "display_name": "Python 3",
   "language": "python",
   "name": "python3"
  },
  "language_info": {
   "codemirror_mode": {
    "name": "ipython",
    "version": 3
   },
   "file_extension": ".py",
   "mimetype": "text/x-python",
   "name": "python",
   "nbconvert_exporter": "python",
   "pygments_lexer": "ipython3",
   "version": "3.10.7"
  }
 },
 "nbformat": 4,
 "nbformat_minor": 2
}
